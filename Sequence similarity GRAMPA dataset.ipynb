{
 "cells": [
  {
   "cell_type": "markdown",
   "metadata": {},
   "source": [
    "In this notebook, we measure the sequence similarity between query sequences and PDB sequences using Smith-Waterman distance"
   ]
  },
  {
   "cell_type": "code",
   "execution_count": 2,
   "metadata": {},
   "outputs": [],
   "source": [
    "import sys\n",
    "import pandas as pd\n",
    "import numpy as np\n",
    "import seaborn as sns\n",
    "import matplotlib.pyplot as plt\n",
    "import re\n",
    "from collections import Counter"
   ]
  },
  {
   "cell_type": "markdown",
   "metadata": {},
   "source": [
    "### Data"
   ]
  },
  {
   "cell_type": "code",
   "execution_count": 2,
   "metadata": {},
   "outputs": [],
   "source": [
    "%store -r df_10k"
   ]
  },
  {
   "cell_type": "code",
   "execution_count": 4,
   "metadata": {},
   "outputs": [],
   "source": [
    "df_10k['Lenght_difference']= df_10k['pdb_sequence_length'] - df_10k['query_sequence_length']"
   ]
  },
  {
   "cell_type": "code",
   "execution_count": 5,
   "metadata": {},
   "outputs": [
    {
     "name": "stdout",
     "output_type": "stream",
     "text": [
      "Stored 'df_10k' (DataFrame)\n"
     ]
    }
   ],
   "source": [
    "%store df_10k"
   ]
  },
  {
   "cell_type": "code",
   "execution_count": 6,
   "metadata": {},
   "outputs": [],
   "source": [
    "df_10k_5=df_10k[(df_10k[\"Lenght_difference\"]>=-5) & (df_10k[\"Lenght_difference\"]<=5)].copy()"
   ]
  },
  {
   "cell_type": "code",
   "execution_count": 11,
   "metadata": {},
   "outputs": [],
   "source": [
    "#!{sys.executable} -m pip install textdistance\n",
    "import textdistance"
   ]
  },
  {
   "cell_type": "code",
   "execution_count": 9,
   "metadata": {},
   "outputs": [],
   "source": [
    "def get_smith_waterman_distance(data):\n",
    "    \"\"\" Smith-Waterman performs a local alignment to find the best alignment over the conserved domain\n",
    "    of two sequences. It is useful for dissimilar sequences that are suspected to contain regions of \n",
    "    similarity or similar sequence motifs within their larger sequence context. The Smith Waterman algorithm is \n",
    "    used to perform local alignments of sequence; it is helpful in determining identical regions between two protein \n",
    "    sequences. This algorithm compares segments of all possible lengths and optimizes similarity. This algorithm uses\n",
    "    dynamic programming to find the optimal local alignment with respect to scoring system used. Compared to \n",
    "    Needleman-Wunsch Algorithm, this algorithm sets the negative scoring matrix cells to zero, thus positive score \n",
    "    are only visible for backtracking, which is done by starting with highest scoring matrix cell and proceeds until \n",
    "    a cell with zero is encountered, which gives the highest scoring local alignment. \"\"\"\n",
    "    \n",
    "    SW_list = []\n",
    "    \n",
    "    for i in range(0, len(data)):\n",
    "        \n",
    "            SW_list_i =  round((textdistance.smith_waterman.normalized_similarity(str(data.query_sequences.iloc[i]), str(data.pdb_sequence.iloc[i])))*100, 1)\n",
    "            SW_list.append(SW_list_i)\n",
    "    \n",
    "    return SW_list          "
   ]
  },
  {
   "cell_type": "markdown",
   "metadata": {},
   "source": [
    "## All results"
   ]
  },
  {
   "cell_type": "code",
   "execution_count": 12,
   "metadata": {},
   "outputs": [],
   "source": [
    "dist_all = get_smith_waterman_distance(df_10k) \n",
    "df_10k['Smith_Waterman_distance'] = dist_all\n",
    "df_10k.to_csv('./grampa_pdb_10k.csv')"
   ]
  },
  {
   "cell_type": "markdown",
   "metadata": {},
   "source": [
    "## -5 to 5 length difference"
   ]
  },
  {
   "cell_type": "code",
   "execution_count": 13,
   "metadata": {},
   "outputs": [],
   "source": [
    "dist_5 = get_smith_waterman_distance(df_10k_5)\n",
    "df_10k_5['Smith_Waterman_distance'] = dist_5\n"
   ]
  },
  {
   "cell_type": "code",
   "execution_count": 14,
   "metadata": {},
   "outputs": [
    {
     "data": {
      "text/html": [
       "<div>\n",
       "<style scoped>\n",
       "    .dataframe tbody tr th:only-of-type {\n",
       "        vertical-align: middle;\n",
       "    }\n",
       "\n",
       "    .dataframe tbody tr th {\n",
       "        vertical-align: top;\n",
       "    }\n",
       "\n",
       "    .dataframe thead th {\n",
       "        text-align: right;\n",
       "    }\n",
       "</style>\n",
       "<table border=\"1\" class=\"dataframe\">\n",
       "  <thead>\n",
       "    <tr style=\"text-align: right;\">\n",
       "      <th></th>\n",
       "      <th>query_sequences</th>\n",
       "      <th>query_sequence_length</th>\n",
       "      <th>pdb_sequence</th>\n",
       "      <th>pdb_sequence_length</th>\n",
       "      <th>pdb_id</th>\n",
       "      <th>e_value</th>\n",
       "      <th>percentage_identity</th>\n",
       "      <th>molecule_name</th>\n",
       "      <th>Lenght_difference</th>\n",
       "      <th>Smith_Waterman_distance</th>\n",
       "    </tr>\n",
       "  </thead>\n",
       "  <tbody>\n",
       "    <tr>\n",
       "      <th>0</th>\n",
       "      <td>GLPRKILCAIAKKKGKCKGPLKLVCKC</td>\n",
       "      <td>27.0</td>\n",
       "      <td>GLPRKILCAIAKKKGKCKGPLKLVCKC</td>\n",
       "      <td>27.0</td>\n",
       "      <td>2mbd</td>\n",
       "      <td>1.100000e-13</td>\n",
       "      <td>100.0</td>\n",
       "      <td>[Lasiocepsin]</td>\n",
       "      <td>0.0</td>\n",
       "      <td>100.0</td>\n",
       "    </tr>\n",
       "    <tr>\n",
       "      <th>1</th>\n",
       "      <td>GFGCPGDAYQCSEHCRALGGGRTGGYCAGPWYLGHPTCTCSF</td>\n",
       "      <td>42.0</td>\n",
       "      <td>GFGCPGDAYQCSEHCRALGGGRTGGYCAGPWYLGHPTCTCSF</td>\n",
       "      <td>42.0</td>\n",
       "      <td>2lt8</td>\n",
       "      <td>7.800000e-22</td>\n",
       "      <td>100.0</td>\n",
       "      <td>[Fungal defensin eurocin]</td>\n",
       "      <td>0.0</td>\n",
       "      <td>100.0</td>\n",
       "    </tr>\n",
       "    <tr>\n",
       "      <th>2</th>\n",
       "      <td>GFGCPGDAYQCSEHCRALGGGRTGGYCAGPWYLGHPTCTCSF</td>\n",
       "      <td>42.0</td>\n",
       "      <td>GFGCPNNYQCHRHCKSIPGRCGGYCGGWHRLRCTCYRCG</td>\n",
       "      <td>39.0</td>\n",
       "      <td>1fjn</td>\n",
       "      <td>4.500000e-06</td>\n",
       "      <td>52.5</td>\n",
       "      <td>[Defensin MGD-1]</td>\n",
       "      <td>-3.0</td>\n",
       "      <td>43.6</td>\n",
       "    </tr>\n",
       "    <tr>\n",
       "      <th>3</th>\n",
       "      <td>GFGCPGDAYQCSEHCRALGGGRTGGYCAGPWYLGHPTCTCSF</td>\n",
       "      <td>42.0</td>\n",
       "      <td>GFGCPFNENECHAHCLSIGRKFGFCAGPLRATCTCGKQ</td>\n",
       "      <td>38.0</td>\n",
       "      <td>2lr5</td>\n",
       "      <td>7.400000e-05</td>\n",
       "      <td>50.0</td>\n",
       "      <td>[micasin]</td>\n",
       "      <td>-4.0</td>\n",
       "      <td>39.5</td>\n",
       "    </tr>\n",
       "    <tr>\n",
       "      <th>5</th>\n",
       "      <td>GFGCPGDAYQCSEHCRALGGGRTGGYCAGPWYLGHPTCTCSF</td>\n",
       "      <td>42.0</td>\n",
       "      <td>GFGCPFNQGKCHRHCRSIRRRGGYCDGFLKQRCVCYRK</td>\n",
       "      <td>38.0</td>\n",
       "      <td>5xa6</td>\n",
       "      <td>8.500000e-04</td>\n",
       "      <td>45.0</td>\n",
       "      <td>[INVERT_DEFENSINS domain-containing protein]</td>\n",
       "      <td>-4.0</td>\n",
       "      <td>31.6</td>\n",
       "    </tr>\n",
       "    <tr>\n",
       "      <th>...</th>\n",
       "      <td>...</td>\n",
       "      <td>...</td>\n",
       "      <td>...</td>\n",
       "      <td>...</td>\n",
       "      <td>...</td>\n",
       "      <td>...</td>\n",
       "      <td>...</td>\n",
       "      <td>...</td>\n",
       "      <td>...</td>\n",
       "      <td>...</td>\n",
       "    </tr>\n",
       "    <tr>\n",
       "      <th>66800</th>\n",
       "      <td>KLWKLFKKIGIGAVLKVLTTGLPALKLTK</td>\n",
       "      <td>29.0</td>\n",
       "      <td>GIGAVLKVLTTGLPALISWIKRKRQQX</td>\n",
       "      <td>27.0</td>\n",
       "      <td>2mlt</td>\n",
       "      <td>1.000000e-03</td>\n",
       "      <td>100.0</td>\n",
       "      <td>[Melittin]</td>\n",
       "      <td>-2.0</td>\n",
       "      <td>37.0</td>\n",
       "    </tr>\n",
       "    <tr>\n",
       "      <th>66801</th>\n",
       "      <td>KLWKLFKKIGIGAVLKVLTTGLPALKLTK</td>\n",
       "      <td>29.0</td>\n",
       "      <td>GIGAVLKVLTTGLPALISWIKRKRQQX</td>\n",
       "      <td>27.0</td>\n",
       "      <td>6o4m</td>\n",
       "      <td>1.000000e-03</td>\n",
       "      <td>100.0</td>\n",
       "      <td>[Melittin]</td>\n",
       "      <td>-2.0</td>\n",
       "      <td>37.0</td>\n",
       "    </tr>\n",
       "    <tr>\n",
       "      <th>66802</th>\n",
       "      <td>KLWKLFKKIGIGAVLKVLTTGLPALKLTK</td>\n",
       "      <td>29.0</td>\n",
       "      <td>GIGAVLKVLTTGLPALISWIKRKRQQX</td>\n",
       "      <td>27.0</td>\n",
       "      <td>1bh1</td>\n",
       "      <td>1.000000e-03</td>\n",
       "      <td>100.0</td>\n",
       "      <td>[Melittin]</td>\n",
       "      <td>-2.0</td>\n",
       "      <td>37.0</td>\n",
       "    </tr>\n",
       "    <tr>\n",
       "      <th>66803</th>\n",
       "      <td>KLWKLFKKIGIGAVLKVLTTGLPALKLTK</td>\n",
       "      <td>29.0</td>\n",
       "      <td>GIGKFLKKAKKGIGAVLKVLTTGL</td>\n",
       "      <td>24.0</td>\n",
       "      <td>2k98</td>\n",
       "      <td>4.800000e-02</td>\n",
       "      <td>76.2</td>\n",
       "      <td>[MSI-594]</td>\n",
       "      <td>-5.0</td>\n",
       "      <td>37.5</td>\n",
       "    </tr>\n",
       "    <tr>\n",
       "      <th>66804</th>\n",
       "      <td>KLWKLFKKIGIGAVLKVLTTGLPALKLTK</td>\n",
       "      <td>29.0</td>\n",
       "      <td>GIGKALKKAKKGIGAVLKVLTTGL</td>\n",
       "      <td>24.0</td>\n",
       "      <td>2l36</td>\n",
       "      <td>8.100000e-02</td>\n",
       "      <td>93.3</td>\n",
       "      <td>[MSI594]</td>\n",
       "      <td>-5.0</td>\n",
       "      <td>37.5</td>\n",
       "    </tr>\n",
       "  </tbody>\n",
       "</table>\n",
       "<p>11266 rows × 10 columns</p>\n",
       "</div>"
      ],
      "text/plain": [
       "                                  query_sequences  query_sequence_length  \\\n",
       "0                     GLPRKILCAIAKKKGKCKGPLKLVCKC                   27.0   \n",
       "1      GFGCPGDAYQCSEHCRALGGGRTGGYCAGPWYLGHPTCTCSF                   42.0   \n",
       "2      GFGCPGDAYQCSEHCRALGGGRTGGYCAGPWYLGHPTCTCSF                   42.0   \n",
       "3      GFGCPGDAYQCSEHCRALGGGRTGGYCAGPWYLGHPTCTCSF                   42.0   \n",
       "5      GFGCPGDAYQCSEHCRALGGGRTGGYCAGPWYLGHPTCTCSF                   42.0   \n",
       "...                                           ...                    ...   \n",
       "66800               KLWKLFKKIGIGAVLKVLTTGLPALKLTK                   29.0   \n",
       "66801               KLWKLFKKIGIGAVLKVLTTGLPALKLTK                   29.0   \n",
       "66802               KLWKLFKKIGIGAVLKVLTTGLPALKLTK                   29.0   \n",
       "66803               KLWKLFKKIGIGAVLKVLTTGLPALKLTK                   29.0   \n",
       "66804               KLWKLFKKIGIGAVLKVLTTGLPALKLTK                   29.0   \n",
       "\n",
       "                                     pdb_sequence  pdb_sequence_length pdb_id  \\\n",
       "0                     GLPRKILCAIAKKKGKCKGPLKLVCKC                 27.0   2mbd   \n",
       "1      GFGCPGDAYQCSEHCRALGGGRTGGYCAGPWYLGHPTCTCSF                 42.0   2lt8   \n",
       "2         GFGCPNNYQCHRHCKSIPGRCGGYCGGWHRLRCTCYRCG                 39.0   1fjn   \n",
       "3          GFGCPFNENECHAHCLSIGRKFGFCAGPLRATCTCGKQ                 38.0   2lr5   \n",
       "5          GFGCPFNQGKCHRHCRSIRRRGGYCDGFLKQRCVCYRK                 38.0   5xa6   \n",
       "...                                           ...                  ...    ...   \n",
       "66800                 GIGAVLKVLTTGLPALISWIKRKRQQX                 27.0   2mlt   \n",
       "66801                 GIGAVLKVLTTGLPALISWIKRKRQQX                 27.0   6o4m   \n",
       "66802                 GIGAVLKVLTTGLPALISWIKRKRQQX                 27.0   1bh1   \n",
       "66803                    GIGKFLKKAKKGIGAVLKVLTTGL                 24.0   2k98   \n",
       "66804                    GIGKALKKAKKGIGAVLKVLTTGL                 24.0   2l36   \n",
       "\n",
       "            e_value  percentage_identity  \\\n",
       "0      1.100000e-13                100.0   \n",
       "1      7.800000e-22                100.0   \n",
       "2      4.500000e-06                 52.5   \n",
       "3      7.400000e-05                 50.0   \n",
       "5      8.500000e-04                 45.0   \n",
       "...             ...                  ...   \n",
       "66800  1.000000e-03                100.0   \n",
       "66801  1.000000e-03                100.0   \n",
       "66802  1.000000e-03                100.0   \n",
       "66803  4.800000e-02                 76.2   \n",
       "66804  8.100000e-02                 93.3   \n",
       "\n",
       "                                      molecule_name  Lenght_difference  \\\n",
       "0                                     [Lasiocepsin]                0.0   \n",
       "1                         [Fungal defensin eurocin]                0.0   \n",
       "2                                  [Defensin MGD-1]               -3.0   \n",
       "3                                         [micasin]               -4.0   \n",
       "5      [INVERT_DEFENSINS domain-containing protein]               -4.0   \n",
       "...                                             ...                ...   \n",
       "66800                                    [Melittin]               -2.0   \n",
       "66801                                    [Melittin]               -2.0   \n",
       "66802                                    [Melittin]               -2.0   \n",
       "66803                                     [MSI-594]               -5.0   \n",
       "66804                                      [MSI594]               -5.0   \n",
       "\n",
       "       Smith_Waterman_distance  \n",
       "0                        100.0  \n",
       "1                        100.0  \n",
       "2                         43.6  \n",
       "3                         39.5  \n",
       "5                         31.6  \n",
       "...                        ...  \n",
       "66800                     37.0  \n",
       "66801                     37.0  \n",
       "66802                     37.0  \n",
       "66803                     37.5  \n",
       "66804                     37.5  \n",
       "\n",
       "[11266 rows x 10 columns]"
      ]
     },
     "execution_count": 14,
     "metadata": {},
     "output_type": "execute_result"
    }
   ],
   "source": [
    "df_10k_5"
   ]
  },
  {
   "cell_type": "code",
   "execution_count": 14,
   "metadata": {},
   "outputs": [
    {
     "ename": "NameError",
     "evalue": "name 'df_10k_5' is not defined",
     "output_type": "error",
     "traceback": [
      "\u001b[1;31m---------------------------------------------------------------------------\u001b[0m",
      "\u001b[1;31mNameError\u001b[0m                                 Traceback (most recent call last)",
      "\u001b[1;32m<ipython-input-14-5c80222aa7a2>\u001b[0m in \u001b[0;36m<module>\u001b[1;34m\u001b[0m\n\u001b[1;32m----> 1\u001b[1;33m \u001b[0mdf_10k_5\u001b[0m\u001b[1;33m.\u001b[0m\u001b[0mto_csv\u001b[0m\u001b[1;33m(\u001b[0m\u001b[1;34m'./grampa_pdb_5_SWD.csv'\u001b[0m\u001b[1;33m)\u001b[0m\u001b[1;33m\u001b[0m\u001b[1;33m\u001b[0m\u001b[0m\n\u001b[0m",
      "\u001b[1;31mNameError\u001b[0m: name 'df_10k_5' is not defined"
     ]
    }
   ],
   "source": [
    "df_10k_5.to_csv('./grampa_pdb_5_SWD.csv')"
   ]
  },
  {
   "cell_type": "markdown",
   "metadata": {},
   "source": [
    "# EDA"
   ]
  },
  {
   "cell_type": "code",
   "execution_count": 46,
   "metadata": {},
   "outputs": [],
   "source": [
    "df_10k_5.molecule_name = df_10k_5.molecule_name.astype(str)"
   ]
  },
  {
   "cell_type": "code",
   "execution_count": 48,
   "metadata": {},
   "outputs": [
    {
     "data": {
      "text/plain": [
       "539"
      ]
     },
     "execution_count": 48,
     "metadata": {},
     "output_type": "execute_result"
    }
   ],
   "source": [
    "len(Counter(df_10k_5.molecule_name))"
   ]
  },
  {
   "cell_type": "code",
   "execution_count": 33,
   "metadata": {},
   "outputs": [
    {
     "data": {
      "text/plain": [
       "495"
      ]
     },
     "execution_count": 33,
     "metadata": {},
     "output_type": "execute_result"
    }
   ],
   "source": [
    "len(Counter(sub_res_5['pdb_sequence']))"
   ]
  },
  {
   "cell_type": "code",
   "execution_count": 4,
   "metadata": {},
   "outputs": [],
   "source": [
    "df_10k_5=pd.read_csv('grampa_pdb_5_SWD_10k.csv', index_col=0)"
   ]
  },
  {
   "cell_type": "code",
   "execution_count": 5,
   "metadata": {},
   "outputs": [],
   "source": [
    "df_10k_filt = df_10k_5[df_10k_5.Smith_Waterman_distance>=70]"
   ]
  },
  {
   "cell_type": "code",
   "execution_count": 6,
   "metadata": {},
   "outputs": [],
   "source": [
    "df_10k_filt50=df_10k_filt[df_10k_filt['pdb_sequence_length']<=50]"
   ]
  },
  {
   "cell_type": "code",
   "execution_count": 7,
   "metadata": {},
   "outputs": [
    {
     "data": {
      "text/plain": [
       "435"
      ]
     },
     "execution_count": 7,
     "metadata": {},
     "output_type": "execute_result"
    }
   ],
   "source": [
    "len(Counter(df_10k_filt50.pdb_id))"
   ]
  },
  {
   "cell_type": "code",
   "execution_count": 8,
   "metadata": {},
   "outputs": [],
   "source": [
    "id_list=df_10k_filt50.pdb_id.to_list()"
   ]
  },
  {
   "cell_type": "code",
   "execution_count": 7,
   "metadata": {},
   "outputs": [
    {
     "name": "stdout",
     "output_type": "stream",
     "text": [
      "Stored 'id_list' (list)\n"
     ]
    }
   ],
   "source": [
    "%store id_list"
   ]
  },
  {
   "cell_type": "code",
   "execution_count": 9,
   "metadata": {},
   "outputs": [
    {
     "data": {
      "text/plain": [
       "320"
      ]
     },
     "execution_count": 9,
     "metadata": {},
     "output_type": "execute_result"
    }
   ],
   "source": [
    "len(Counter(df_10k_filt50.pdb_sequence))"
   ]
  },
  {
   "cell_type": "code",
   "execution_count": 10,
   "metadata": {},
   "outputs": [],
   "source": [
    "# Separamos secuencias encontradas en la busqueda inicial (10 resultados) para comparar con la busqueda de 10k \n",
    "\n",
    "sec_file = open('./Data/sec_PSSP.fasta', 'r')\n",
    "sec_search_10r = []\n",
    "for line in sec_file:\n",
    "    sec_search_10r.append(line.strip())\n",
    "sec_file.close()"
   ]
  },
  {
   "cell_type": "code",
   "execution_count": 11,
   "metadata": {},
   "outputs": [],
   "source": [
    "pep2d_df=pd.read_csv(\"./Data/PEP2D.csv\")"
   ]
  },
  {
   "cell_type": "code",
   "execution_count": 12,
   "metadata": {},
   "outputs": [],
   "source": [
    "sec_pep2d=pep2d_df.peptide_sequence.tolist()"
   ]
  },
  {
   "cell_type": "code",
   "execution_count": 13,
   "metadata": {},
   "outputs": [
    {
     "data": {
      "text/plain": [
       "320"
      ]
     },
     "execution_count": 13,
     "metadata": {},
     "output_type": "execute_result"
    }
   ],
   "source": [
    "sec_df1ok = df_10k_filt50.pdb_sequence.tolist()\n",
    "sec_df1ok_uniq=[]\n",
    "[sec_df1ok_uniq.append(x) for x in sec_df1ok if x not in sec_df1ok_uniq]\n",
    "len(sec_df1ok_uniq)"
   ]
  },
  {
   "cell_type": "code",
   "execution_count": 14,
   "metadata": {},
   "outputs": [
    {
     "data": {
      "text/plain": [
       "37"
      ]
     },
     "execution_count": 14,
     "metadata": {},
     "output_type": "execute_result"
    }
   ],
   "source": [
    "rem_list=[]\n",
    "[rem_list.append(x) for x in sec_df1ok_uniq if x not in sec_search_10r]\n",
    "len(rem_list)"
   ]
  },
  {
   "cell_type": "code",
   "execution_count": 15,
   "metadata": {},
   "outputs": [
    {
     "name": "stdout",
     "output_type": "stream",
     "text": [
      "KCNTATCATQRLANFLVRSSNNLGPVLPPTNVGSNTYX\n"
     ]
    }
   ],
   "source": [
    "print(rem_list[0])"
   ]
  },
  {
   "cell_type": "code",
   "execution_count": 16,
   "metadata": {},
   "outputs": [],
   "source": [
    "one_id=[]\n",
    "one_id_sec=[]\n",
    "mult_id=[]\n",
    "mult_id_sec=[]\n",
    "for i in range(len(sec_df1ok_uniq)):\n",
    "    testid=df_10k_filt50[df_10k_filt50.pdb_sequence == sec_df1ok_uniq[i]]['pdb_id'].to_string(index=False)\n",
    "    if len(Counter(df_10k_filt50[df_10k_filt50['pdb_sequence']==sec_df1ok_uniq[i]]['pdb_id'])) == 1:\n",
    "        one_id.append(testid)\n",
    "        one_id_sec.append(sec_df1ok_uniq[i])\n",
    "    else:\n",
    "        mult_id.append(testid)\n",
    "        mult_id_sec.append(sec_df1ok_uniq[i])"
   ]
  },
  {
   "cell_type": "code",
   "execution_count": 65,
   "metadata": {},
   "outputs": [],
   "source": [
    "link = './Data/one_id.fasta'\n",
    "ofile = open(link, \"w\")\n",
    "\n",
    "for i in range(len(one_id)):\n",
    "    ofile.write(\">\" + one_id[i] + \"\\n\" + one_id_sec[i] + \"\\n\")\n",
    "    \n",
    "ofile.close()"
   ]
  },
  {
   "cell_type": "code",
   "execution_count": 66,
   "metadata": {},
   "outputs": [],
   "source": [
    "link2 = './Data/mult_id.fasta'\n",
    "ofile2 = open(link2, \"w\")\n",
    "\n",
    "for i in range(len(mult_id)):\n",
    "    ofile2.write(\">\" + mult_id[i] + \"\\n\" + mult_id_sec[i] + \"\\n\")\n",
    "    \n",
    "ofile2.close()"
   ]
  },
  {
   "cell_type": "code",
   "execution_count": 17,
   "metadata": {},
   "outputs": [
    {
     "ename": "OSError",
     "evalue": "[Errno 22] Invalid argument: './Data/psipred/ 2mbd\\n 2mbd\\n 2mbd\\n 2mbd.fasta'",
     "output_type": "error",
     "traceback": [
      "\u001b[1;31m---------------------------------------------------------------------------\u001b[0m",
      "\u001b[1;31mOSError\u001b[0m                                   Traceback (most recent call last)",
      "\u001b[1;32m<ipython-input-17-7c8e0ea429bc>\u001b[0m in \u001b[0;36m<module>\u001b[1;34m\u001b[0m\n\u001b[0;32m      1\u001b[0m \u001b[1;32mfor\u001b[0m \u001b[0mi\u001b[0m \u001b[1;32min\u001b[0m \u001b[0mrange\u001b[0m\u001b[1;33m(\u001b[0m\u001b[0mlen\u001b[0m\u001b[1;33m(\u001b[0m\u001b[0mone_id\u001b[0m\u001b[1;33m)\u001b[0m\u001b[1;33m)\u001b[0m\u001b[1;33m:\u001b[0m\u001b[1;33m\u001b[0m\u001b[1;33m\u001b[0m\u001b[0m\n\u001b[0;32m      2\u001b[0m     \u001b[0mlink\u001b[0m \u001b[1;33m=\u001b[0m \u001b[1;34m'./Data/psipred/'\u001b[0m \u001b[1;33m+\u001b[0m \u001b[0mone_id\u001b[0m\u001b[1;33m[\u001b[0m\u001b[0mi\u001b[0m\u001b[1;33m]\u001b[0m \u001b[1;33m+\u001b[0m \u001b[1;34m'.fasta'\u001b[0m\u001b[1;33m\u001b[0m\u001b[1;33m\u001b[0m\u001b[0m\n\u001b[1;32m----> 3\u001b[1;33m     \u001b[0mofile\u001b[0m \u001b[1;33m=\u001b[0m \u001b[0mopen\u001b[0m\u001b[1;33m(\u001b[0m\u001b[0mlink\u001b[0m\u001b[1;33m,\u001b[0m \u001b[1;34m\"w\"\u001b[0m\u001b[1;33m)\u001b[0m\u001b[1;33m\u001b[0m\u001b[1;33m\u001b[0m\u001b[0m\n\u001b[0m\u001b[0;32m      4\u001b[0m     \u001b[0mofile\u001b[0m\u001b[1;33m.\u001b[0m\u001b[0mwrite\u001b[0m\u001b[1;33m(\u001b[0m\u001b[1;34m\">\"\u001b[0m \u001b[1;33m+\u001b[0m \u001b[0mone_id\u001b[0m\u001b[1;33m[\u001b[0m\u001b[0mi\u001b[0m\u001b[1;33m]\u001b[0m \u001b[1;33m+\u001b[0m \u001b[1;34m\"\\n\"\u001b[0m \u001b[1;33m+\u001b[0m \u001b[0mone_id_sec\u001b[0m\u001b[1;33m[\u001b[0m\u001b[0mi\u001b[0m\u001b[1;33m]\u001b[0m \u001b[1;33m+\u001b[0m \u001b[1;34m\"\\n\"\u001b[0m\u001b[1;33m)\u001b[0m\u001b[1;33m\u001b[0m\u001b[1;33m\u001b[0m\u001b[0m\n\u001b[0;32m      5\u001b[0m     \u001b[0mofile\u001b[0m\u001b[1;33m.\u001b[0m\u001b[0mclose\u001b[0m\u001b[1;33m(\u001b[0m\u001b[1;33m)\u001b[0m\u001b[1;33m\u001b[0m\u001b[1;33m\u001b[0m\u001b[0m\n",
      "\u001b[1;31mOSError\u001b[0m: [Errno 22] Invalid argument: './Data/psipred/ 2mbd\\n 2mbd\\n 2mbd\\n 2mbd.fasta'"
     ]
    }
   ],
   "source": [
    "for i in range(len(one_id)):\n",
    "    link = './Data/psipred/' + one_id[i] + '.fasta'\n",
    "    ofile = open(link, \"w\")\n",
    "    ofile.write(\">\" + one_id[i] + \"\\n\" + one_id_sec[i] + \"\\n\")\n",
    "    ofile.close()"
   ]
  },
  {
   "cell_type": "code",
   "execution_count": 85,
   "metadata": {},
   "outputs": [
    {
     "data": {
      "text/plain": [
       "Counter({'1ha9': 2, '1ib9': 2})"
      ]
     },
     "execution_count": 85,
     "metadata": {},
     "output_type": "execute_result"
    }
   ],
   "source": [
    "Counter(df_10k_filt50[df_10k_filt50['pdb_sequence']=='SGSDGGVCPKILKKCRRDSDCPGACICRGNGYCG']['pdb_id'])"
   ]
  },
  {
   "cell_type": "code",
   "execution_count": 86,
   "metadata": {},
   "outputs": [
    {
     "data": {
      "text/plain": [
       "59"
      ]
     },
     "execution_count": 86,
     "metadata": {},
     "output_type": "execute_result"
    }
   ],
   "source": [
    "len(mult_id_sec)"
   ]
  },
  {
   "cell_type": "code",
   "execution_count": 87,
   "metadata": {},
   "outputs": [
    {
     "data": {
      "text/plain": [
       "261"
      ]
     },
     "execution_count": 87,
     "metadata": {},
     "output_type": "execute_result"
    }
   ],
   "source": [
    "len(one_id_sec)"
   ]
  }
 ],
 "metadata": {
  "interpreter": {
   "hash": "fb698bdeab99cfbf9e31cab566d99a06e057f2dec3dcc8097ebabb329e860e16"
  },
  "kernelspec": {
   "display_name": "Python 3.8.5 64-bit ('base': conda)",
   "name": "python3"
  },
  "language_info": {
   "codemirror_mode": {
    "name": "ipython",
    "version": 3
   },
   "file_extension": ".py",
   "mimetype": "text/x-python",
   "name": "python",
   "nbconvert_exporter": "python",
   "pygments_lexer": "ipython3",
   "version": "3.8.5"
  }
 },
 "nbformat": 4,
 "nbformat_minor": 5
}
